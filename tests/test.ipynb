{
 "cells": [
  {
   "cell_type": "code",
   "execution_count": 6,
   "id": "57504ad3-acf9-4c4c-89ad-480f455485de",
   "metadata": {},
   "outputs": [
    {
     "data": {
      "text/plain": [
       "<module 'utils.jupy_utils' from '/home/lii26466/Documents/git/ccp4/src/TarikDrevonUtils/utils/jupy_utils.py'>"
      ]
     },
     "execution_count": 6,
     "metadata": {},
     "output_type": "execute_result"
    }
   ],
   "source": [
    "from utils import*\n",
    "from utils import jupy_utils;imp.reload(jupy_utils)"
   ]
  },
  {
   "cell_type": "code",
   "execution_count": 2,
   "id": "222ae1b5-9fb7-4ce9-8264-bd5475302810",
   "metadata": {},
   "outputs": [],
   "source": [
    "hkls=['(1, 1, -3)', '(-1, -2, 4)', '(1, 2, -4)', '(-1, -1, 2)', '(2, 1, -4)',\n",
    "       '(1, 1, -2)', '(-2, -1, 4)', '(-1, -1, 4)', '(-1, -1, 5)', '(1, 1, -5)',\n",
    "       '(1, 1, -4)', '(-1, -1, 1)', '(2, 2, -6)', '(-2, -2, 7)', '(-1, -1, 6)',\n",
    "       '(-3, -2, 7)', '(2, 1, -3)', '(2, 2, -7)', '(-1, -2, 5)', '(2, 2, -5)',\n",
    "       '(3, 1, -5)', '(-2, -2, 9)', '(1, 1, 0)', '(3, 2, -7)', '(1, 2, -5)',\n",
    "       '(1, 1, -1)', '(2, 2, -8)', '(-4, -3, 10)', '(-3, -1, 5)',\n",
    "       '(-2, -1, 3)', '(2, 4, -9)', '(2, 3, -7)', '(-2, -4, 8)', '(1, 1, -6)',\n",
    "       '(-2, -3, 7)', '(-2, -4, 9)', '(-3, -4, 10)', '(2, 4, -8)',\n",
    "       '(2, 2, -3)', '(3, 4, -10)', '(4, 2, -8)']\n"
   ]
  },
  {
   "cell_type": "code",
   "execution_count": 16,
   "id": "48463ee1-1c45-4ac9-af7f-f384bcdfab47",
   "metadata": {},
   "outputs": [
    {
     "data": {
      "text/markdown": [
       "\n",
       "1_1_-3 | -1_-2_4 | 1_2_-4 | -1_-1_2 | 2_1_-4 | 1_1_-2 | -2_-1_4 | -1_-1_4\n",
       " -- |  -- |  -- |  -- |  -- |  -- |  -- |  --\n",
       "![](../../ED_studies/exp_structures/biotin/figs//biotin_exp_1_1_-3.png) | ![](../../ED_studies/exp_structures/biotin/figs//biotin_exp_-1_-2_4.png) | ![](../../ED_studies/exp_structures/biotin/figs//biotin_exp_1_2_-4.png) | ![](../../ED_studies/exp_structures/biotin/figs//biotin_exp_-1_-1_2.png) | ![](../../ED_studies/exp_structures/biotin/figs//biotin_exp_2_1_-4.png) | ![](../../ED_studies/exp_structures/biotin/figs//biotin_exp_1_1_-2.png) | ![](../../ED_studies/exp_structures/biotin/figs//biotin_exp_-2_-1_4.png) | ![](../../ED_studies/exp_structures/biotin/figs//biotin_exp_-1_-1_4.png)\n",
       "\n",
       "-1_-1_5 | 1_1_-5 | 1_1_-4 | -1_-1_1 | 2_2_-6 | -2_-2_7 | -1_-1_6 | -3_-2_7\n",
       " -- |  -- |  -- |  -- |  -- |  -- |  -- |  --\n",
       "![](../../ED_studies/exp_structures/biotin/figs//biotin_exp_-1_-1_5.png) | ![](../../ED_studies/exp_structures/biotin/figs//biotin_exp_1_1_-5.png) | ![](../../ED_studies/exp_structures/biotin/figs//biotin_exp_1_1_-4.png) | ![](../../ED_studies/exp_structures/biotin/figs//biotin_exp_-1_-1_1.png) | ![](../../ED_studies/exp_structures/biotin/figs//biotin_exp_2_2_-6.png) | ![](../../ED_studies/exp_structures/biotin/figs//biotin_exp_-2_-2_7.png) | ![](../../ED_studies/exp_structures/biotin/figs//biotin_exp_-1_-1_6.png) | ![](../../ED_studies/exp_structures/biotin/figs//biotin_exp_-3_-2_7.png)\n",
       "\n",
       "2_1_-3 | 2_2_-7 | -1_-2_5 | 2_2_-5 | 3_1_-5 | -2_-2_9 | 1_1_0 | 3_2_-7\n",
       " -- |  -- |  -- |  -- |  -- |  -- |  -- |  --\n",
       "![](../../ED_studies/exp_structures/biotin/figs//biotin_exp_2_1_-3.png) | ![](../../ED_studies/exp_structures/biotin/figs//biotin_exp_2_2_-7.png) | ![](../../ED_studies/exp_structures/biotin/figs//biotin_exp_-1_-2_5.png) | ![](../../ED_studies/exp_structures/biotin/figs//biotin_exp_2_2_-5.png) | ![](../../ED_studies/exp_structures/biotin/figs//biotin_exp_3_1_-5.png) | ![](../../ED_studies/exp_structures/biotin/figs//biotin_exp_-2_-2_9.png) | ![](../../ED_studies/exp_structures/biotin/figs//biotin_exp_1_1_0.png) | ![](../../ED_studies/exp_structures/biotin/figs//biotin_exp_3_2_-7.png)\n",
       "\n",
       "1_2_-5 | 1_1_-1 | 2_2_-8 | -4_-3_10 | -3_-1_5 | -2_-1_3 | 2_4_-9 | 2_3_-7\n",
       " -- |  -- |  -- |  -- |  -- |  -- |  -- |  --\n",
       "![](../../ED_studies/exp_structures/biotin/figs//biotin_exp_1_2_-5.png) | ![](../../ED_studies/exp_structures/biotin/figs//biotin_exp_1_1_-1.png) | ![](../../ED_studies/exp_structures/biotin/figs//biotin_exp_2_2_-8.png) | ![](../../ED_studies/exp_structures/biotin/figs//biotin_exp_-4_-3_10.png) | ![](../../ED_studies/exp_structures/biotin/figs//biotin_exp_-3_-1_5.png) | ![](../../ED_studies/exp_structures/biotin/figs//biotin_exp_-2_-1_3.png) | ![](../../ED_studies/exp_structures/biotin/figs//biotin_exp_2_4_-9.png) | ![](../../ED_studies/exp_structures/biotin/figs//biotin_exp_2_3_-7.png)\n",
       "\n",
       "-2_-4_8 | 1_1_-6 | -2_-3_7 | -2_-4_9 | -3_-4_10 | 2_4_-8 | 2_2_-3 | 3_4_-10\n",
       " -- |  -- |  -- |  -- |  -- |  -- |  -- |  --\n",
       "![](../../ED_studies/exp_structures/biotin/figs//biotin_exp_-2_-4_8.png) | ![](../../ED_studies/exp_structures/biotin/figs//biotin_exp_1_1_-6.png) | ![](../../ED_studies/exp_structures/biotin/figs//biotin_exp_-2_-3_7.png) | ![](../../ED_studies/exp_structures/biotin/figs//biotin_exp_-2_-4_9.png) | ![](../../ED_studies/exp_structures/biotin/figs//biotin_exp_-3_-4_10.png) | ![](../../ED_studies/exp_structures/biotin/figs//biotin_exp_2_4_-8.png) | ![](../../ED_studies/exp_structures/biotin/figs//biotin_exp_2_2_-3.png) | ![](../../ED_studies/exp_structures/biotin/figs//biotin_exp_3_4_-10.png)\n"
      ],
      "text/plain": [
       "<IPython.core.display.Markdown object>"
      ]
     },
     "metadata": {},
     "output_type": "display_data"
    }
   ],
   "source": [
    "imp.reload(jupy_utils)\n",
    "jupy_utils.show_hkls(hkls=hkls,\n",
    "                     path='../../ED_studies/exp_structures/biotin/figs/',\n",
    "                     name='biotin_exp',n=8)"
   ]
  }
 ],
 "metadata": {
  "kernelspec": {
   "display_name": ".env",
   "language": "python",
   "name": ".env"
  },
  "language_info": {
   "codemirror_mode": {
    "name": "ipython",
    "version": 3
   },
   "file_extension": ".py",
   "mimetype": "text/x-python",
   "name": "python",
   "nbconvert_exporter": "python",
   "pygments_lexer": "ipython3",
   "version": "3.8.10"
  }
 },
 "nbformat": 4,
 "nbformat_minor": 5
}
